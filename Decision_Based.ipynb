{
  "nbformat": 4,
  "nbformat_minor": 0,
  "metadata": {
    "colab": {
      "provenance": [],
      "mount_file_id": "15_00MJmUy7YRLLPA30rJduJarzEj2tTE",
      "authorship_tag": "ABX9TyMINaeO9RYMMCBo0uzdvDc+",
      "include_colab_link": true
    },
    "kernelspec": {
      "name": "python3",
      "display_name": "Python 3"
    },
    "language_info": {
      "name": "python"
    }
  },
  "cells": [
    {
      "cell_type": "markdown",
      "metadata": {
        "id": "view-in-github",
        "colab_type": "text"
      },
      "source": [
        "<a href=\"https://colab.research.google.com/github/Ashok17kumaravel/Network-Intrusion-System/blob/main/Decision_Based.ipynb\" target=\"_parent\"><img src=\"https://colab.research.google.com/assets/colab-badge.svg\" alt=\"Open In Colab\"/></a>"
      ]
    },
    {
      "cell_type": "markdown",
      "source": [
        "# **A Decision-Based Ensemble Framework for Intrusion Detection in The Internet of Vehicles**"
      ],
      "metadata": {
        "id": "3cALCZGIXwp7"
      }
    },
    {
      "cell_type": "markdown",
      "metadata": {
        "id": "lkCW7qSvXpTv"
      },
      "source": [
        "## Import libraries"
      ]
    },
    {
      "cell_type": "code",
      "execution_count": 35,
      "metadata": {
        "id": "gZ-CykxrXpTx"
      },
      "outputs": [],
      "source": [
        "import warnings\n",
        "warnings.filterwarnings(\"ignore\")"
      ]
    },
    {
      "cell_type": "code",
      "execution_count": null,
      "metadata": {
        "id": "qvNWqnnMXpT0"
      },
      "outputs": [],
      "source": [
        "!pip install catboost\n",
        "!pip install river\n",
        "import pandas as pd\n",
        "import numpy as np\n",
        "import matplotlib.pyplot as plt\n",
        "import seaborn as sns\n",
        "from sklearn.model_selection import train_test_split\n",
        "from sklearn.metrics import classification_report,confusion_matrix,accuracy_score, precision_score, recall_score, f1_score\n",
        "import lightgbm as lgb\n",
        "import catboost as cbt\n",
        "import xgboost as xgb\n",
        "import time\n",
        "from river import stream\n",
        "from statistics import mode"
      ]
    },
    {
      "cell_type": "markdown",
      "source": [
        "# **Read the dataset**"
      ],
      "metadata": {
        "id": "CIIJyT0iYgDC"
      }
    },
    {
      "cell_type": "code",
      "execution_count": 37,
      "metadata": {
        "id": "ZYUZBZn5XpT2"
      },
      "outputs": [],
      "source": [
        "df = pd.read_csv(\"/content/drive/MyDrive/CICIDS2017_sample_km_1.csv\")"
      ]
    },
    {
      "cell_type": "code",
      "execution_count": 38,
      "metadata": {
        "id": "M1zZIB4ZXpT3",
        "outputId": "22c7a3aa-1d65-4623-9a85-db389f5253c0",
        "colab": {
          "base_uri": "https://localhost:8080/"
        }
      },
      "outputs": [
        {
          "output_type": "execute_result",
          "data": {
            "text/plain": [
              "0    18225\n",
              "3     3042\n",
              "6     2180\n",
              "1     1966\n",
              "5     1255\n",
              "2       96\n",
              "4       36\n",
              "Name: Label, dtype: int64"
            ]
          },
          "metadata": {},
          "execution_count": 38
        }
      ],
      "source": [
        "df.Label.value_counts()"
      ]
    },
    {
      "cell_type": "markdown",
      "metadata": {
        "id": "dVJqkhS_XpT8"
      },
      "source": [
        "## Split train set and test set"
      ]
    },
    {
      "cell_type": "code",
      "execution_count": 39,
      "metadata": {
        "id": "FZg9xyfGXpT-"
      },
      "outputs": [],
      "source": [
        "X = df.drop(['Label'],axis=1)\n",
        "y = df['Label']\n",
        "X_train, X_test, y_train, y_test = train_test_split(X,y, train_size = 0.8, test_size = 0.2, random_state = 0) #shuffle=False"
      ]
    },
    {
      "cell_type": "markdown",
      "metadata": {
        "collapsed": true,
        "id": "4rzUpMgzXpT_"
      },
      "source": [
        "## SMOTE to solve class-imbalance"
      ]
    },
    {
      "cell_type": "code",
      "execution_count": 40,
      "metadata": {
        "id": "kP7ZAacTXpUA",
        "outputId": "5de2b47c-79ea-4916-b5a4-077ddd0e74aa",
        "colab": {
          "base_uri": "https://localhost:8080/"
        }
      },
      "outputs": [
        {
          "output_type": "execute_result",
          "data": {
            "text/plain": [
              "0    14569\n",
              "3     2430\n",
              "6     1728\n",
              "1     1579\n",
              "5     1024\n",
              "2       82\n",
              "4       28\n",
              "Name: Label, dtype: int64"
            ]
          },
          "metadata": {},
          "execution_count": 40
        }
      ],
      "source": [
        "pd.Series(y_train).value_counts()"
      ]
    },
    {
      "cell_type": "code",
      "execution_count": 41,
      "metadata": {
        "id": "Kz8i1FXcXpUB"
      },
      "outputs": [],
      "source": [
        "from imblearn.over_sampling import SMOTE\n",
        "smote=SMOTE(n_jobs=-1,sampling_strategy={2:1000,4:1000})"
      ]
    },
    {
      "cell_type": "code",
      "execution_count": 42,
      "metadata": {
        "id": "RwbfXw_sXpUB"
      },
      "outputs": [],
      "source": [
        "X_train, y_train = smote.fit_resample(X_train, y_train)"
      ]
    },
    {
      "cell_type": "markdown",
      "metadata": {
        "id": "ykpvuL1yagOH"
      },
      "source": [
        "## Machine Learning (ML) model training\n",
        "### Training three base learners: LightGBM, XGBoost, CatBoost"
      ]
    },
    {
      "cell_type": "code",
      "execution_count": 43,
      "metadata": {
        "id": "IxEM8IrjXpUD",
        "outputId": "5eca4e43-334d-4df2-dab0-3a9bf824ead7",
        "colab": {
          "base_uri": "https://localhost:8080/",
          "height": 717
        }
      },
      "outputs": [
        {
          "output_type": "stream",
          "name": "stdout",
          "text": [
            "              precision    recall  f1-score   support\n",
            "\n",
            "           0       1.00      1.00      1.00      3656\n",
            "           1       1.00      0.99      0.99       387\n",
            "           2       1.00      1.00      1.00        14\n",
            "           3       1.00      1.00      1.00       612\n",
            "           4       1.00      0.62      0.77         8\n",
            "           5       0.99      1.00      0.99       231\n",
            "           6       1.00      0.99      1.00       452\n",
            "\n",
            "    accuracy                           1.00      5360\n",
            "   macro avg       1.00      0.94      0.96      5360\n",
            "weighted avg       1.00      1.00      1.00      5360\n",
            "\n",
            "Accuracy of LightGBM: 0.9970149253731343\n",
            "Precision of LightGBM: 0.9970242087793977\n",
            "Recall of LightGBM: 0.9970149253731343\n",
            "Average F1 of LightGBM: 0.9969498365212915\n",
            "F1 of LightGBM for each type of attack: [0.9982238  0.99351492 1.         0.99673203 0.76923077 0.99354839\n",
            " 0.99555556]\n"
          ]
        },
        {
          "output_type": "display_data",
          "data": {
            "text/plain": [
              "<Figure size 360x360 with 2 Axes>"
            ],
            "image/png": "[encoded data removed]"
          },
          "metadata": {
            "needs_background": "light"
          }
        },
        {
          "output_type": "stream",
          "name": "stdout",
          "text": [
            "CPU times: user 15.7 s, sys: 212 ms, total: 15.9 s\n",
            "Wall time: 22.8 s\n"
          ]
        }
      ],
      "source": [
        "%%time\n",
        "# Train the LightGBM algorithm\n",
        "import lightgbm as lgb\n",
        "lg = lgb.LGBMClassifier()\n",
        "lg.fit(X_train, y_train)\n",
        "y_pred = lg.predict(X_test)\n",
        "print(classification_report(y_test,y_pred))\n",
        "print(\"Accuracy of LightGBM: \"+ str(accuracy_score(y_test, y_pred)))\n",
        "print(\"Precision of LightGBM: \"+ str(precision_score(y_test, y_pred, average='weighted')))\n",
        "print(\"Recall of LightGBM: \"+ str(recall_score(y_test, y_pred, average='weighted')))\n",
        "print(\"Average F1 of LightGBM: \"+ str(f1_score(y_test, y_pred, average='weighted')))\n",
        "print(\"F1 of LightGBM for each type of attack: \"+ str(f1_score(y_test, y_pred, average=None)))\n",
        "lg_f1=f1_score(y_test, y_pred, average=None)\n",
        "\n",
        "# Plot the confusion matrix\n",
        "cm=confusion_matrix(y_test,y_pred)\n",
        "f,ax=plt.subplots(figsize=(5,5))\n",
        "sns.heatmap(cm,annot=True,linewidth=0.5,linecolor=\"red\",fmt=\".0f\",ax=ax)\n",
        "plt.xlabel(\"y_pred\")\n",
        "plt.ylabel(\"y_true\")\n",
        "plt.show()"
      ]
    },
    {
      "cell_type": "code",
      "execution_count": 44,
      "metadata": {
        "id": "umdYaIQcXpUE",
        "outputId": "dc580436-aebe-4305-c02e-264bc5f6e44b",
        "colab": {
          "base_uri": "https://localhost:8080/",
          "height": 717
        }
      },
      "outputs": [
        {
          "output_type": "stream",
          "name": "stdout",
          "text": [
            "              precision    recall  f1-score   support\n",
            "\n",
            "           0       0.98      0.99      0.98      3656\n",
            "           1       0.99      0.96      0.97       387\n",
            "           2       0.87      0.93      0.90        14\n",
            "           3       0.97      0.98      0.97       612\n",
            "           4       1.00      0.75      0.86         8\n",
            "           5       0.99      0.99      0.99       231\n",
            "           6       0.99      0.87      0.92       452\n",
            "\n",
            "    accuracy                           0.98      5360\n",
            "   macro avg       0.97      0.92      0.94      5360\n",
            "weighted avg       0.98      0.98      0.98      5360\n",
            "\n",
            "Accuracy of XGBoost: 0.9772388059701492\n",
            "Precision of XGBoost: 0.9774859895703705\n",
            "Recall of XGBoost: 0.9772388059701492\n",
            "Average F1 of XGBoost: 0.9768923200357776\n",
            "F1 of XGBoost for each type of attack: [0.98400651 0.97375328 0.89655172 0.97394137 0.85714286 0.98920086\n",
            " 0.92434988]\n"
          ]
        },
        {
          "output_type": "display_data",
          "data": {
            "text/plain": [
              "<Figure size 360x360 with 2 Axes>"
            ],
            "image/png": "[encoded data removed]"
          },
          "metadata": {
            "needs_background": "light"
          }
        },
        {
          "output_type": "stream",
          "name": "stdout",
          "text": [
            "CPU times: user 48.5 s, sys: 281 ms, total: 48.8 s\n",
            "Wall time: 1min 6s\n"
          ]
        }
      ],
      "source": [
        "%%time\n",
        "# Train the XGBoost algorithm\n",
        "import xgboost as xgb\n",
        "xg = xgb.XGBClassifier()\n",
        "\n",
        "X_train_x = X_train.values\n",
        "X_test_x = X_test.values\n",
        "\n",
        "xg.fit(X_train_x, y_train)\n",
        "\n",
        "y_pred = xg.predict(X_test_x)\n",
        "print(classification_report(y_test,y_pred))\n",
        "print(\"Accuracy of XGBoost: \"+ str(accuracy_score(y_test, y_pred)))\n",
        "print(\"Precision of XGBoost: \"+ str(precision_score(y_test, y_pred, average='weighted')))\n",
        "print(\"Recall of XGBoost: \"+ str(recall_score(y_test, y_pred, average='weighted')))\n",
        "print(\"Average F1 of XGBoost: \"+ str(f1_score(y_test, y_pred, average='weighted')))\n",
        "print(\"F1 of XGBoost for each type of attack: \"+ str(f1_score(y_test, y_pred, average=None)))\n",
        "xg_f1=f1_score(y_test, y_pred, average=None)\n",
        "\n",
        "# Plot the confusion matrix\n",
        "cm=confusion_matrix(y_test,y_pred)\n",
        "f,ax=plt.subplots(figsize=(5,5))\n",
        "sns.heatmap(cm,annot=True,linewidth=0.5,linecolor=\"red\",fmt=\".0f\",ax=ax)\n",
        "plt.xlabel(\"y_pred\")\n",
        "plt.ylabel(\"y_true\")\n",
        "plt.show()"
      ]
    },
    {
      "cell_type": "code",
      "execution_count": 45,
      "metadata": {
        "scrolled": false,
        "id": "bTSCzHntXpUF",
        "outputId": "92ba4085-a666-4d3e-cad3-b34dd58d0780",
        "colab": {
          "base_uri": "https://localhost:8080/",
          "height": 717
        }
      },
      "outputs": [
        {
          "output_type": "stream",
          "name": "stdout",
          "text": [
            "              precision    recall  f1-score   support\n",
            "\n",
            "           0       1.00      1.00      1.00      3656\n",
            "           1       0.99      0.99      0.99       387\n",
            "           2       1.00      1.00      1.00        14\n",
            "           3       1.00      1.00      1.00       612\n",
            "           4       1.00      0.62      0.77         8\n",
            "           5       0.99      1.00      0.99       231\n",
            "           6       1.00      0.99      0.99       452\n",
            "\n",
            "    accuracy                           1.00      5360\n",
            "   macro avg       1.00      0.94      0.96      5360\n",
            "weighted avg       1.00      1.00      1.00      5360\n",
            "\n",
            "Accuracy of CatBoost: 0.9957089552238806\n",
            "Precision of CatBoost: 0.9957133997912716\n",
            "Recall of CatBoost: 0.9957089552238806\n",
            "Average F1 of CatBoost: 0.995645081004013\n",
            "F1 of CatBoost for each type of attack: [0.99712919 0.99094437 1.         0.99591837 0.76923077 0.99137931\n",
            " 0.99334812]\n"
          ]
        },
        {
          "output_type": "display_data",
          "data": {
            "text/plain": [
              "<Figure size 360x360 with 2 Axes>"
            ],
            "image/png": "[encoded data removed]"
          },
          "metadata": {
            "needs_background": "light"
          }
        },
        {
          "output_type": "stream",
          "name": "stdout",
          "text": [
            "CPU times: user 3min 49s, sys: 2.81 s, total: 3min 52s\n",
            "Wall time: 2min 30s\n"
          ]
        }
      ],
      "source": [
        "%%time\n",
        "# Train the CatBoost algorithm\n",
        "import catboost as cbt\n",
        "cb = cbt.CatBoostClassifier(verbose=0,boosting_type='Plain')\n",
        "#cb = cbt.CatBoostClassifier()\n",
        "\n",
        "cb.fit(X_train, y_train)\n",
        "y_pred = cb.predict(X_test)\n",
        "print(classification_report(y_test,y_pred))\n",
        "print(\"Accuracy of CatBoost: \"+ str(accuracy_score(y_test, y_pred)))\n",
        "print(\"Precision of CatBoost: \"+ str(precision_score(y_test, y_pred, average='weighted')))\n",
        "print(\"Recall of CatBoost: \"+ str(recall_score(y_test, y_pred, average='weighted')))\n",
        "print(\"Average F1 of CatBoost: \"+ str(f1_score(y_test, y_pred, average='weighted')))\n",
        "print(\"F1 of CatBoost for each type of attack: \"+ str(f1_score(y_test, y_pred, average=None)))\n",
        "cb_f1=f1_score(y_test, y_pred, average=None)\n",
        "\n",
        "# Plot the confusion matrix\n",
        "cm=confusion_matrix(y_test,y_pred)\n",
        "f,ax=plt.subplots(figsize=(5,5))\n",
        "sns.heatmap(cm,annot=True,linewidth=0.5,linecolor=\"red\",fmt=\".0f\",ax=ax)\n",
        "plt.xlabel(\"y_pred\")\n",
        "plt.ylabel(\"y_true\")\n",
        "plt.show()"
      ]
    },
    {
      "cell_type": "markdown",
      "metadata": {
        "id": "YZaN3qlfXpUG"
      },
      "source": [
        "## Proposed ensemble model: Leader Class and Confidence Decision Ensemble (LCCDE)"
      ]
    },
    {
      "cell_type": "markdown",
      "metadata": {
        "id": "pnKgrYGuXpUG"
      },
      "source": [
        "LCCDE aims to achieve optimal model performance by identifying the best-performing base ML model with the highest prediction confidence for each class. "
      ]
    },
    {
      "cell_type": "markdown",
      "metadata": {
        "id": "WxTUmSuoXpUG"
      },
      "source": [
        "### Find the best-performing (leading) model for each type of attack among the three ML models"
      ]
    },
    {
      "cell_type": "code",
      "execution_count": 46,
      "metadata": {
        "id": "Wcj7oA4LXpUH"
      },
      "outputs": [],
      "source": [
        "# Leading model list for each class\n",
        "model=[]\n",
        "for i in range(len(lg_f1)):\n",
        "    if max(lg_f1[i],xg_f1[i],cb_f1[i]) == lg_f1[i]:\n",
        "        model.append(lg)\n",
        "    elif max(lg_f1[i],xg_f1[i],cb_f1[i]) == xg_f1[i]:\n",
        "        model.append(xg)\n",
        "    else:\n",
        "        model.append(cb)"
      ]
    },
    {
      "cell_type": "code",
      "execution_count": 47,
      "metadata": {
        "scrolled": false,
        "id": "iSx68oOLXpUH",
        "outputId": "0e993d69-21f0-4b9c-fbca-b00f460e8655",
        "colab": {
          "base_uri": "https://localhost:8080/"
        }
      },
      "outputs": [
        {
          "output_type": "execute_result",
          "data": {
            "text/plain": [
              "[LGBMClassifier(),\n",
              " LGBMClassifier(),\n",
              " LGBMClassifier(),\n",
              " LGBMClassifier(),\n",
              " XGBClassifier(objective='multi:softprob'),\n",
              " LGBMClassifier(),\n",
              " LGBMClassifier()]"
            ]
          },
          "metadata": {},
          "execution_count": 47
        }
      ],
      "source": [
        "model"
      ]
    },
    {
      "cell_type": "markdown",
      "metadata": {
        "id": "TSr_-zPQXpUI"
      },
      "source": [
        "**Leading Model for Each Type of Attack:**  \n",
        "0 BENIGN: &emsp; XGBClassifier  \n",
        "1 Bot:        &emsp;  &emsp;      XGBClassifier   \n",
        "2 BruteForce:  &emsp;      LGBMClassifier  \n",
        "3 DoS:        &emsp;   &emsp;   XGBClassifier  \n",
        "4 Infiltration:  &emsp;       LGBMClassifier  \n",
        "5 PortScan:  &emsp;       LGBMClassifier  \n",
        "6 WebAttack:    &emsp;      XGBClassifier  "
      ]
    },
    {
      "cell_type": "markdown",
      "metadata": {
        "collapsed": true,
        "id": "8qsEuv-wXpUI"
      },
      "source": [
        "## LCCDE Prediction"
      ]
    },
    {
      "cell_type": "code",
      "execution_count": 48,
      "metadata": {
        "id": "aoyt0OCZXpUI"
      },
      "outputs": [],
      "source": [
        "def LCCDE(X_test, y_test, m1, m2, m3):\n",
        "    i = 0\n",
        "    t = []\n",
        "    m = []\n",
        "    yt = []\n",
        "    yp = []\n",
        "    l = []\n",
        "    pred_l = []\n",
        "    pro_l = []\n",
        "\n",
        "    # For each class (normal or a type of attack), find the leader model\n",
        "    for xi, yi in stream.iter_pandas(X_test, y_test):\n",
        "\n",
        "        xi2=np.array(list(xi.values()))\n",
        "        y_pred1 = m1.predict(xi2.reshape(1, -1))      # model 1 (LightGBM) makes a prediction on text sample xi\n",
        "        y_pred1 = int(y_pred1[0])\n",
        "        y_pred2 = m2.predict(xi2.reshape(1, -1))      # model 2 (XGBoost) makes a prediction on text sample xi\n",
        "        y_pred2 = int(y_pred2[0])\n",
        "        y_pred3 = m3.predict(xi2.reshape(1, -1))      # model 3 (Catboost) makes a prediction on text sample xi\n",
        "        y_pred3 = int(y_pred3[0])\n",
        "\n",
        "        p1 = m1.predict_proba(xi2.reshape(1, -1))     # The prediction probability (confidence) list of model 1 \n",
        "        p2 = m2.predict_proba(xi2.reshape(1, -1))     # The prediction probability (confidence) list of model 2  \n",
        "        p3 = m3.predict_proba(xi2.reshape(1, -1))     # The prediction probability (confidence) list of model 3  \n",
        "\n",
        "        # Find the highest prediction probability among all classes for each ML model\n",
        "        y_pred_p1 = np.max(p1)\n",
        "        y_pred_p2 = np.max(p2)\n",
        "        y_pred_p3 = np.max(p3)\n",
        "\n",
        "        if y_pred1 == y_pred2 == y_pred3: # If the predicted classes of all the three models are the same\n",
        "            y_pred = y_pred1 # Use this predicted class as the final predicted class\n",
        "\n",
        "        elif y_pred1 != y_pred2 != y_pred3: # If the predicted classes of all the three models are different\n",
        "            # For each prediction model, check if the predicted class’s original ML model is the same as its leader model\n",
        "            if model[y_pred1]==m1: # If they are the same and the leading model is model 1 (LightGBM)\n",
        "                l.append(m1)\n",
        "                pred_l.append(y_pred1) # Save the predicted class\n",
        "                pro_l.append(y_pred_p1) # Save the confidence\n",
        "\n",
        "            if model[y_pred2]==m2: # If they are the same and the leading model is model 2 (XGBoost)\n",
        "                l.append(m2)\n",
        "                pred_l.append(y_pred2)\n",
        "                pro_l.append(y_pred_p2)\n",
        "\n",
        "            if model[y_pred3]==m3: # If they are the same and the leading model is model 3 (CatBoost)\n",
        "                l.append(m3)\n",
        "                pred_l.append(y_pred3)\n",
        "                pro_l.append(y_pred_p3)\n",
        "\n",
        "            if len(l)==0: # Avoid empty probability list\n",
        "                pro_l=[y_pred_p1,y_pred_p2,y_pred_p3]\n",
        "\n",
        "            elif len(l)==1: # If only one pair of the original model and the leader model for each predicted class is the same\n",
        "                y_pred=pred_l[0] # Use the predicted class of the leader model as the final prediction class\n",
        "\n",
        "            else: # If no pair or multiple pairs of the original prediction model and the leader model for each predicted class are the same\n",
        "                max_p = max(pro_l) # Find the highest confidence\n",
        "                \n",
        "                # Use the predicted class with the highest confidence as the final prediction class\n",
        "                if max_p == y_pred_p1:\n",
        "                    y_pred = y_pred1\n",
        "                elif max_p == y_pred_p2:\n",
        "                    y_pred = y_pred2\n",
        "                else:\n",
        "                    y_pred = y_pred3  \n",
        "        \n",
        "        else: # If two predicted classes are the same and the other one is different\n",
        "            n = mode([y_pred1,y_pred2,y_pred3]) # Find the predicted class with the majority vote\n",
        "            y_pred = model[n].predict(xi2.reshape(1, -1)) # Use the predicted class of the leader model as the final prediction class\n",
        "            y_pred = int(y_pred[0]) \n",
        "\n",
        "        yt.append(yi)\n",
        "        yp.append(y_pred) # Save the predicted classes for all tested samples\n",
        "    return yt, yp"
      ]
    },
    {
      "cell_type": "code",
      "execution_count": 49,
      "metadata": {
        "id": "j7jQrdIUXpUK",
        "outputId": "c6ad61a8-b60b-496f-e6bb-a8f7170f58f0",
        "colab": {
          "base_uri": "https://localhost:8080/"
        }
      },
      "outputs": [
        {
          "output_type": "stream",
          "name": "stdout",
          "text": [
            "CPU times: user 25.1 s, sys: 5.53 s, total: 30.6 s\n",
            "Wall time: 39.7 s\n"
          ]
        }
      ],
      "source": [
        "%%time\n",
        "# Implementing LCCDE\n",
        "yt, yp = LCCDE(X_test, y_test, m1 = lg, m2 = xg, m3 = cb)"
      ]
    },
    {
      "cell_type": "code",
      "execution_count": 50,
      "metadata": {
        "id": "DC68wZRQXpUL",
        "outputId": "e0b89091-848c-47ed-edf7-ed9b97f4dc8f",
        "colab": {
          "base_uri": "https://localhost:8080/"
        }
      },
      "outputs": [
        {
          "output_type": "stream",
          "name": "stdout",
          "text": [
            "Accuracy of LCCDE: 0.9970149253731343\n",
            "Precision of LCCDE: 0.9970224476453357\n",
            "Recall of LCCDE: 0.9970149253731343\n",
            "Average F1 of LCCDE: 0.9969504045797433\n",
            "F1 of LCCDE for each type of attack: [0.99808743 0.99351492 1.         0.99754702 0.76923077 0.99137931\n",
            " 0.99667037]\n"
          ]
        }
      ],
      "source": [
        "# The performance of the proposed lCCDE model\n",
        "print(\"Accuracy of LCCDE: \"+ str(accuracy_score(yt, yp)))\n",
        "print(\"Precision of LCCDE: \"+ str(precision_score(yt, yp, average='weighted')))\n",
        "print(\"Recall of LCCDE: \"+ str(recall_score(yt, yp, average='weighted')))\n",
        "print(\"Average F1 of LCCDE: \"+ str(f1_score(yt, yp, average='weighted')))\n",
        "print(\"F1 of LCCDE for each type of attack: \"+ str(f1_score(yt, yp, average=None)))"
      ]
    },
    {
      "cell_type": "code",
      "execution_count": 51,
      "metadata": {
        "scrolled": true,
        "id": "nc7lXxAGXpUN",
        "outputId": "a7cd98b4-d9d8-48f2-99b0-2d7c1410b3aa",
        "colab": {
          "base_uri": "https://localhost:8080/"
        }
      },
      "outputs": [
        {
          "output_type": "stream",
          "name": "stdout",
          "text": [
            "F1 of LightGBM for each type of attack: [0.9982238  0.99351492 1.         0.99673203 0.76923077 0.99354839\n",
            " 0.99555556]\n",
            "F1 of XGBoost for each type of attack: [0.98400651 0.97375328 0.89655172 0.97394137 0.85714286 0.98920086\n",
            " 0.92434988]\n",
            "F1 of CatBoost for each type of attack: [0.99712919 0.99094437 1.         0.99591837 0.76923077 0.99137931\n",
            " 0.99334812]\n"
          ]
        }
      ],
      "source": [
        "# Comparison: The F1-scores for each base model\n",
        "print(\"F1 of LightGBM for each type of attack: \"+ str(lg_f1))\n",
        "print(\"F1 of XGBoost for each type of attack: \"+ str(xg_f1))\n",
        "print(\"F1 of CatBoost for each type of attack: \"+ str(cb_f1))"
      ]
    },
    {
      "cell_type": "markdown",
      "metadata": {
        "collapsed": true,
        "id": "Z_2DhxqeXpUO"
      },
      "source": [
        "**Conclusion**: The performance (F1-score) of the proposed LCCDE ensemble model on each type of attack detection is higher than any base ML model."
      ]
    },
    {
      "cell_type": "markdown",
      "source": [
        "# **END**"
      ],
      "metadata": {
        "id": "e8UZU5TLby5y"
      }
    }
  ]
}